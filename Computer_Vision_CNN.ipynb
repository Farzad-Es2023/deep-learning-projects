{
  "nbformat": 4,
  "nbformat_minor": 0,
  "metadata": {
    "colab": {
      "provenance": []
    },
    "kernelspec": {
      "name": "python3",
      "display_name": "Python 3"
    },
    "language_info": {
      "name": "python"
    }
  },
  "cells": [
    {
      "cell_type": "markdown",
      "source": [
        "## 3. **Computer Vision**- CNN\n",
        "related to 03 Pytorch computer vision course\n",
        "\n",
        "\n",
        "* covered in this section: Data loader, Pytorch datasets,batched data,\n",
        "\n",
        "\n",
        "\n",
        "  enumerate, Flatten, **functionizing Train/Test loop** ,"
      ],
      "metadata": {
        "id": "oQkzSu24msVm"
      }
    },
    {
      "cell_type": "code",
      "source": [
        "import torch\n",
        "from torch import nn\n",
        "\n",
        "import torchvision\n",
        "from torchvision import datasets\n",
        "from torchvision.transforms import ToTensor\n",
        "\n",
        "import matplotlib.pyplot as plt"
      ],
      "metadata": {
        "id": "-E2I6SmiA0E6"
      },
      "execution_count": null,
      "outputs": []
    },
    {
      "cell_type": "code",
      "source": [
        "# Setup training data\n",
        "train_data = datasets.FashionMNIST(\n",
        "    root=\"data\", # where to download data to?\n",
        "    train=True, # get training data\n",
        "    download=True, # download data if it doesn't exist on disk\n",
        "    transform=ToTensor(), # images come as PIL(python image ...) format, we want to turn into Torch tensors\n",
        "    target_transform=None # you can transform labels as well\n",
        ")\n",
        "\n",
        "# Setup testing data\n",
        "test_data = datasets.FashionMNIST(\n",
        "    root=\"data\",\n",
        "    train=False, # get test data\n",
        "    download=True,\n",
        "    transform=ToTensor()\n",
        ")"
      ],
      "metadata": {
        "colab": {
          "base_uri": "https://localhost:8080/"
        },
        "id": "7tL2fZ61m7WX",
        "outputId": "0c6a842e-6a73-4555-d525-737360764179"
      },
      "execution_count": null,
      "outputs": [
        {
          "output_type": "stream",
          "name": "stdout",
          "text": [
            "Downloading http://fashion-mnist.s3-website.eu-central-1.amazonaws.com/train-images-idx3-ubyte.gz\n",
            "Downloading http://fashion-mnist.s3-website.eu-central-1.amazonaws.com/train-images-idx3-ubyte.gz to data/FashionMNIST/raw/train-images-idx3-ubyte.gz\n"
          ]
        },
        {
          "output_type": "stream",
          "name": "stderr",
          "text": [
            "100%|██████████| 26421880/26421880 [00:09<00:00, 2846003.03it/s] \n"
          ]
        },
        {
          "output_type": "stream",
          "name": "stdout",
          "text": [
            "Extracting data/FashionMNIST/raw/train-images-idx3-ubyte.gz to data/FashionMNIST/raw\n",
            "\n",
            "Downloading http://fashion-mnist.s3-website.eu-central-1.amazonaws.com/train-labels-idx1-ubyte.gz\n",
            "Downloading http://fashion-mnist.s3-website.eu-central-1.amazonaws.com/train-labels-idx1-ubyte.gz to data/FashionMNIST/raw/train-labels-idx1-ubyte.gz\n"
          ]
        },
        {
          "output_type": "stream",
          "name": "stderr",
          "text": [
            "100%|██████████| 29515/29515 [00:00<00:00, 311168.29it/s]\n"
          ]
        },
        {
          "output_type": "stream",
          "name": "stdout",
          "text": [
            "Extracting data/FashionMNIST/raw/train-labels-idx1-ubyte.gz to data/FashionMNIST/raw\n",
            "\n",
            "Downloading http://fashion-mnist.s3-website.eu-central-1.amazonaws.com/t10k-images-idx3-ubyte.gz\n",
            "Downloading http://fashion-mnist.s3-website.eu-central-1.amazonaws.com/t10k-images-idx3-ubyte.gz to data/FashionMNIST/raw/t10k-images-idx3-ubyte.gz\n"
          ]
        },
        {
          "output_type": "stream",
          "name": "stderr",
          "text": [
            "100%|██████████| 4422102/4422102 [00:01<00:00, 3423475.42it/s]\n"
          ]
        },
        {
          "output_type": "stream",
          "name": "stdout",
          "text": [
            "Extracting data/FashionMNIST/raw/t10k-images-idx3-ubyte.gz to data/FashionMNIST/raw\n",
            "\n",
            "Downloading http://fashion-mnist.s3-website.eu-central-1.amazonaws.com/t10k-labels-idx1-ubyte.gz\n",
            "Downloading http://fashion-mnist.s3-website.eu-central-1.amazonaws.com/t10k-labels-idx1-ubyte.gz to data/FashionMNIST/raw/t10k-labels-idx1-ubyte.gz\n"
          ]
        },
        {
          "output_type": "stream",
          "name": "stderr",
          "text": [
            "100%|██████████| 5148/5148 [00:00<00:00, 5593854.14it/s]"
          ]
        },
        {
          "output_type": "stream",
          "name": "stdout",
          "text": [
            "Extracting data/FashionMNIST/raw/t10k-labels-idx1-ubyte.gz to data/FashionMNIST/raw\n",
            "\n"
          ]
        },
        {
          "output_type": "stream",
          "name": "stderr",
          "text": [
            "\n"
          ]
        }
      ]
    },
    {
      "cell_type": "code",
      "source": [
        "class_names = train_data.classes\n",
        "class_names"
      ],
      "metadata": {
        "colab": {
          "base_uri": "https://localhost:8080/"
        },
        "id": "JS757M96AZ-0",
        "outputId": "0e1652b1-9c05-4ec8-f0fa-d8a6646a093b"
      },
      "execution_count": null,
      "outputs": [
        {
          "output_type": "execute_result",
          "data": {
            "text/plain": [
              "['T-shirt/top',\n",
              " 'Trouser',\n",
              " 'Pullover',\n",
              " 'Dress',\n",
              " 'Coat',\n",
              " 'Sandal',\n",
              " 'Shirt',\n",
              " 'Sneaker',\n",
              " 'Bag',\n",
              " 'Ankle boot']"
            ]
          },
          "metadata": {},
          "execution_count": 5
        }
      ]
    },
    {
      "cell_type": "code",
      "source": [
        "import matplotlib.pyplot as plt\n",
        "imag1, label1=train_data[0]\n",
        "imag2, label2=train_data[1]\n",
        "imag3, label3=train_data[3]\n",
        "\n",
        "#plotting sample 0 of train data\n",
        "plt.subplot(1,3,1)\n",
        "plt.imshow(imag1.squeeze()) # using squeeze to remove extra dimension(since it is basically three dimensional)\n",
        "plt.title(label1)\n",
        "\n",
        "#plotting sample 1 of train data\n",
        "plt.subplot(1,3,2)\n",
        "plt.imshow(imag2.squeeze())\n",
        "plt.title(class_names[label2])\n",
        "\n",
        "#plotting sample 3 of train data\n",
        "plt.subplot(1,3,3)\n",
        "plt.imshow(imag3.squeeze(),cmap='gray')\n",
        "plt.title(class_names[label3])\n",
        "plt.axis(False)"
      ],
      "metadata": {
        "colab": {
          "base_uri": "https://localhost:8080/",
          "height": 245
        },
        "id": "pb4bybZl6I95",
        "outputId": "ec9aa390-b492-4bd0-ad60-137d5b564300"
      },
      "execution_count": null,
      "outputs": [
        {
          "output_type": "execute_result",
          "data": {
            "text/plain": [
              "(-0.5, 27.5, 27.5, -0.5)"
            ]
          },
          "metadata": {},
          "execution_count": 9
        },
        {
          "output_type": "display_data",
          "data": {
            "text/plain": [
              "<Figure size 640x480 with 3 Axes>"
            ],
            "image/png": "[encoded data removed]"
          },
          "metadata": {}
        }
      ]
    },
    {
      "cell_type": "markdown",
      "source": [
        "**Data Loader:**"
      ],
      "metadata": {
        "id": "RQjB5ovhdwbo"
      }
    },
    {
      "cell_type": "code",
      "source": [
        "# Using data loader:\n",
        "from torch.utils.data import DataLoader\n",
        "BATCH_SIZE=32\n",
        "\n",
        "Train_batches=DataLoader(train_data,batch_size=BATCH_SIZE,shuffle=True) # DataLoader's output(here:Train_batches) consists of batches of data(here 60000/32). train_data = datasets.FashionMNIST(...)\n",
        "\n",
        "Test_batches=DataLoader(test_data,batch_size=BATCH_SIZE,shuffle=True)\n",
        "\n",
        "Train_sample1image, Train_samplelabel1=next(iter(Train_batches)) #  'iter' works like a for Loop that iterate over the batches. 'next' function get the batch one by one. So by applying 'next' function one time we get the first batch,in second time we get second batch and so on. more explanation is in word file \"Pytorch for deepNN\".\n",
        "\n",
        "print(Train_sample1image.shape)\n",
        "\n",
        "print(len(Train_samplelabel1))"
      ],
      "metadata": {
        "colab": {
          "base_uri": "https://localhost:8080/"
        },
        "id": "r7AxsqvSEqAC",
        "outputId": "842c5390-daf7-4cc8-c335-973800118eb4"
      },
      "execution_count": null,
      "outputs": [
        {
          "output_type": "stream",
          "name": "stdout",
          "text": [
            "torch.Size([32, 1, 28, 28])\n",
            "32\n"
          ]
        }
      ]
    },
    {
      "cell_type": "markdown",
      "source": [
        "###**Building a Model-0**"
      ],
      "metadata": {
        "id": "rJEJQJhYoqm3"
      }
    },
    {
      "cell_type": "code",
      "source": [
        "from torch import nn\n",
        "#first we start with a linear model\n",
        "\n",
        "class Fashion_Mnist(nn.Module):\n",
        "  def __init__(self, input_features, hidden_neurons, output_features):\n",
        "    super().__init__()\n",
        "    self.stack_Layers=nn.Sequential(nn.Flatten(), nn.Linear(input_features,hidden_neurons),nn.Linear(hidden_neurons,output_features) )\n",
        "\n",
        "  def forward(self,x):\n",
        "    return self.stack_Layers(x)"
      ],
      "metadata": {
        "id": "k0-YUr2Dop_Z"
      },
      "execution_count": null,
      "outputs": []
    },
    {
      "cell_type": "code",
      "source": [
        "Input_Features=784\n",
        "Hidden_Neurons=10\n",
        "Output_Features=10\n",
        "\n",
        "model_fashion0=Fashion_Mnist(Input_Features, Hidden_Neurons, Output_Features)"
      ],
      "metadata": {
        "id": "DxMoVPNbh_B4"
      },
      "execution_count": null,
      "outputs": []
    },
    {
      "cell_type": "code",
      "source": [
        "# Optimizer and Loss function\n",
        "\n",
        "loss_fn = nn.CrossEntropyLoss() # this is also called \"criterion\"/\"cost function\" in some contexts\n",
        "\n",
        "optimizer = torch.optim.SGD(params=model_fashion0.parameters(), lr=0.1)"
      ],
      "metadata": {
        "id": "DpIYh_MZJ2DG"
      },
      "execution_count": null,
      "outputs": []
    },
    {
      "cell_type": "markdown",
      "source": [
        "### Creating a training loop and training a model on batches of data"
      ],
      "metadata": {
        "id": "k9zfiReLRiMO"
      }
    },
    {
      "cell_type": "code",
      "source": [
        "# accuracy function:\n",
        "def acc_fn(output,target):\n",
        " correct = torch.eq(target, output).sum().item() # torch.eq() calculates where two tensors are equal\n",
        " acc = (correct / len(output)) * 100\n",
        " return acc"
      ],
      "metadata": {
        "id": "a__KuIx_KJDD"
      },
      "execution_count": null,
      "outputs": []
    },
    {
      "cell_type": "code",
      "source": [
        "# Import tqdm for progress bar\n",
        "from tqdm.auto import tqdm\n",
        "from timeit import default_timer as timer\n",
        "\n",
        "# Set the seed and start the timer\n",
        "torch.manual_seed(42)\n",
        "train_time_start= timer() #we will use Timer function to finally calculate the time spent for training\n",
        "\n",
        "# Set the number of epochs (we'll keep this small for faster training times)\n",
        "epochs = 8\n",
        "\n",
        "# Create training and testing loop\n",
        "for epoch in tqdm(range(epochs)):\n",
        "  Train_Loss=0\n",
        "  print(f\"epoch {epoch} : \\n----------\")\n",
        "  for batch_idx, (X,y) in enumerate(Train_batches):\n",
        "    model_fashion0.train()\n",
        "    y_pred=model_fashion0(X)\n",
        "    tr_loss=loss_fn(y_pred,y)\n",
        "    Train_Loss+=tr_loss\n",
        "\n",
        "    optimizer.zero_grad()\n",
        "    tr_loss.backward()\n",
        "    optimizer.step()\n",
        "\n",
        "  Train_Loss /= len(Train_batches)\n",
        "\n",
        " #Testing:\n",
        "  Test_Loss, Testaccuracy = 0, 0\n",
        "  with torch.inference_mode():\n",
        "    model_fashion0.eval()\n",
        "    for batch_idxt, (X,y) in enumerate(Test_batches):\n",
        "      y_predtest=model_fashion0(X)\n",
        "      tstloss=loss_fn(y_predtest,y)\n",
        "      Test_Loss+=tstloss\n",
        "      y_predtestacc=torch.softmax(y_predtest,dim=1).argmax(dim=1)\n",
        "\n",
        "      Test_acc=acc_fn(y_predtestacc,y)\n",
        "      Testaccuracy+=Test_acc\n",
        "\n",
        "\n",
        "\n",
        "    Test_Loss /= len(Test_batches) #They should be within \"inference_mode\" otherwise we get error\n",
        "    Testaccuracy /= len(Test_batches)\n",
        "\n",
        "  print(f\"Train Loss is: {Train_Loss} | Test Loss is: {Test_Loss} | Test accuracy is: {Testaccuracy}\")\n",
        "\n",
        "\n",
        "train_time_end= timer()\n",
        "training_time=train_time_end - train_time_start\n",
        "print(f\"Training time duration is :{training_time}\")\n",
        "\n"
      ],
      "metadata": {
        "colab": {
          "base_uri": "https://localhost:8080/",
          "height": 483,
          "referenced_widgets": [
            "a6ecd89c285f4f8290cb0c3c808a02c7",
            "08dc6936bf864f4d890846d74b0ec049",
            "a68ce3890527419faa15cb001719ae94",
            "a47b3ea6dd3c4171adddb4bb10331de8",
            "0b9cfc9cd2b44a3498ea714ae735ae4c",
            "1ed3a385910043b5923cccc9e3831b9d",
            "d836130945b040d7a2ef379596ae8046",
            "dbfe0b54116c4af699df4a1bab2ca558",
            "76e23316e35743eca03a455fcc03eac7",
            "f66201f824994062b85ac5f2c088718e",
            "6175f7a6018746fb982f282dc9766fbb"
          ]
        },
        "id": "PfS7q42PQYqR",
        "outputId": "2c4f414a-661a-439f-a88b-a994dcfb717a"
      },
      "execution_count": null,
      "outputs": [
        {
          "output_type": "display_data",
          "data": {
            "text/plain": [
              "  0%|          | 0/8 [00:00<?, ?it/s]"
            ],
            "application/vnd.jupyter.widget-view+json": {
              "version_major": 2,
              "version_minor": 0,
              "model_id": "a6ecd89c285f4f8290cb0c3c808a02c7"
            }
          },
          "metadata": {}
        },
        {
          "output_type": "stream",
          "name": "stdout",
          "text": [
            "epoch 0 : \n",
            "----------\n",
            "Train Loss is: 0.47585833072662354 | Test Loss is: 0.4814874827861786 | Test accuracy is: 83.12699680511182\n",
            "epoch 1 : \n",
            "----------\n",
            "Train Loss is: 0.4534832239151001 | Test Loss is: 0.5211654901504517 | Test accuracy is: 81.94888178913737\n",
            "epoch 2 : \n",
            "----------\n",
            "Train Loss is: 0.44245579838752747 | Test Loss is: 0.5127664804458618 | Test accuracy is: 82.94728434504792\n",
            "epoch 3 : \n",
            "----------\n",
            "Train Loss is: 0.43596792221069336 | Test Loss is: 0.46878618001937866 | Test accuracy is: 83.32667731629392\n",
            "epoch 4 : \n",
            "----------\n",
            "Train Loss is: 0.43047723174095154 | Test Loss is: 0.4646110534667969 | Test accuracy is: 83.71605431309904\n",
            "epoch 5 : \n",
            "----------\n",
            "Train Loss is: 0.4242740273475647 | Test Loss is: 0.5011433959007263 | Test accuracy is: 82.50798722044729\n",
            "epoch 6 : \n",
            "----------\n",
            "Train Loss is: 0.4236816465854645 | Test Loss is: 0.4703879654407501 | Test accuracy is: 83.47643769968052\n",
            "epoch 7 : \n",
            "----------\n",
            "Train Loss is: 0.42003118991851807 | Test Loss is: 0.487339049577713 | Test accuracy is: 83.03714057507987\n",
            "Training time duration is :92.455739989\n"
          ]
        }
      ]
    },
    {
      "cell_type": "markdown",
      "source": [
        "### **Functionizing trainning and testing**\n",
        "\n",
        "the functions goes through batches of data"
      ],
      "metadata": {
        "id": "zKKey7pU8JBT"
      }
    },
    {
      "cell_type": "code",
      "source": [
        "# functionizing the training loop for batches of data in one epoch\n",
        "\n",
        "def train_step(model,Train_batches,loss_fn,optimizer,acc_fn):  #the way it is defined in the course: def train_step(model: torch.nn.Module,data_loader: torch.utils.data.DataLoader,loss_fn: torch.nn.Module,optimizer: torch.optim.Optimizer,accuracy_fn,):  >>>> in this way it defines the types of variables too\n",
        "\n",
        "  Train_Loss, Trainaccuracy= 0, 0\n",
        "  for batch_idx, (X,y) in enumerate(Train_batches):\n",
        "    model.train()\n",
        "    y_pred=model(X)\n",
        "    tr_loss=loss_fn(y_pred,y)\n",
        "    Train_Loss+=tr_loss\n",
        "\n",
        "    optimizer.zero_grad()\n",
        "    tr_loss.backward()\n",
        "    optimizer.step()\n",
        "    y_predtrainacc=torch.softmax(y_pred,dim=1).argmax(dim=1)\n",
        "    Train_acc=acc_fn(y_predtrainacc,y)\n",
        "    Trainaccuracy+=Train_acc\n",
        "\n",
        "  Train_Loss /= len(Train_batches)\n",
        "  Trainaccuracy /= len(Train_batches)\n",
        "  return Train_Loss, Trainaccuracy\n",
        "\n",
        "\n",
        "# functionizing the testing loop for batches of data in one epoch\n",
        "\n",
        "def test_step(model,Test_batches,loss_fn,acc_fn):\n",
        "  Test_Loss, Testaccuracy = 0, 0\n",
        "\n",
        "  model.eval()\n",
        "  with torch.inference_mode():\n",
        "    for batch_idx, (X,y) in enumerate(Test_batches):\n",
        "      y_predtest=model(X)\n",
        "      tst_loss=loss_fn(y_predtest,y)\n",
        "      Test_Loss+=tst_loss\n",
        "      y_predtestacc=torch.softmax(y_predtest,dim=1).argmax(dim=1)\n",
        "      Test_acc=acc_fn(y_predtestacc,y)\n",
        "      Testaccuracy+=Test_acc\n",
        "\n",
        "    Test_Loss /= len(Test_batches)\n",
        "    Testaccuracy /= len(Test_batches)\n",
        "    return Test_Loss, Testaccuracy\n"
      ],
      "metadata": {
        "id": "OiX7L5btjRc4"
      },
      "execution_count": null,
      "outputs": []
    },
    {
      "cell_type": "markdown",
      "source": [
        "**Rerun the model with functions defined above**"
      ],
      "metadata": {
        "id": "GoeK4RjHfr-h"
      }
    },
    {
      "cell_type": "code",
      "source": [
        "# Rerunning the model with those functions\n",
        "\n",
        "\n",
        "from tqdm.auto import tqdm\n",
        "from timeit import default_timer as timer\n",
        "\n",
        "\n",
        "torch.manual_seed(42)\n",
        "train_time_start= timer()\n",
        "\n",
        "\n",
        "epochs = 8\n",
        "\n",
        "\n",
        "for epoch in tqdm(range(epochs)):\n",
        "\n",
        "  print(f\"epoch {epoch} : \\n----------\")\n",
        "\n",
        "  Train_Loss, Trainaccuracy=train_step(model=model_fashion0,Train_batches=Train_batches,loss_fn=loss_fn,optimizer=optimizer,acc_fn=acc_fn)\n",
        "\n",
        "\n",
        "  Test_Loss, Testaccuracy=test_step(model=model_fashion0,Test_batches=Test_batches,loss_fn=loss_fn,acc_fn=acc_fn)\n",
        "\n",
        "\n",
        "\n",
        "\n",
        "  print(f\"Train Loss is: {Train_Loss} | Train accuracy is: {Trainaccuracy} | Test Loss is: {Test_Loss} | Test accuracy is: {Testaccuracy}\")\n",
        "\n",
        "\n",
        "train_time_end= timer()\n",
        "training_time=train_time_end - train_time_start\n",
        "print(f\"Training time duration is :{training_time}\")\n",
        "\n",
        "# In Python, once you return a variable from a function, the variable itself is not accessible by its original name outside of that function unless it is explicitly returned and assigned to a variable in the calling scope"
      ],
      "metadata": {
        "colab": {
          "base_uri": "https://localhost:8080/",
          "height": 483,
          "referenced_widgets": [
            "17128402a55f43c1890c44552213bee3",
            "16d481d756c9486bb7a122299fa42295",
            "2a7ba879f3284f6b862009330f55dc90",
            "98b87b1225b6493aa76b4876f32e299e",
            "e8fd590d73c84383b2240dea15074db1",
            "99c0ac82a4f54fed9e2c28c59dd1323e",
            "33454fa4267646798333c48ca4bf705e",
            "123e9390486044acba651f5980855494",
            "153393f64f154a378cc6f8e6ef937856",
            "247f300c671c461d879ab47268f89bac",
            "d19f6327f77045948226316c84d7a9d2"
          ]
        },
        "id": "L9eBrn9lFuHU",
        "outputId": "ee04f868-c874-40b2-bf98-2f43dcc0e0ae",
        "collapsed": true
      },
      "execution_count": null,
      "outputs": [
        {
          "output_type": "display_data",
          "data": {
            "text/plain": [
              "  0%|          | 0/8 [00:00<?, ?it/s]"
            ],
            "application/vnd.jupyter.widget-view+json": {
              "version_major": 2,
              "version_minor": 0,
              "model_id": "17128402a55f43c1890c44552213bee3"
            }
          },
          "metadata": {}
        },
        {
          "output_type": "stream",
          "name": "stdout",
          "text": [
            "epoch 0 : \n",
            "----------\n",
            "Train Loss is: 0.40439656376838684 | Train accuracy is: 85.73 | Test Loss is: 0.45538511872291565 | Test accuracy is: 84.06549520766774\n",
            "epoch 1 : \n",
            "----------\n",
            "Train Loss is: 0.40229105949401855 | Train accuracy is: 85.805 | Test Loss is: 0.48205360770225525 | Test accuracy is: 83.16693290734824\n",
            "epoch 2 : \n",
            "----------\n",
            "Train Loss is: 0.4022565186023712 | Train accuracy is: 85.855 | Test Loss is: 0.5076719522476196 | Test accuracy is: 82.95726837060703\n",
            "epoch 3 : \n",
            "----------\n",
            "Train Loss is: 0.4015989303588867 | Train accuracy is: 85.87833333333333 | Test Loss is: 0.45923271775245667 | Test accuracy is: 83.4564696485623\n",
            "epoch 4 : \n",
            "----------\n",
            "Train Loss is: 0.4008944034576416 | Train accuracy is: 85.85833333333333 | Test Loss is: 0.45962026715278625 | Test accuracy is: 83.92571884984025\n",
            "epoch 5 : \n",
            "----------\n",
            "Train Loss is: 0.3983157277107239 | Train accuracy is: 86.00833333333334 | Test Loss is: 0.5174314975738525 | Test accuracy is: 82.3682108626198\n",
            "epoch 6 : \n",
            "----------\n",
            "Train Loss is: 0.40068528056144714 | Train accuracy is: 85.85666666666667 | Test Loss is: 0.48597726225852966 | Test accuracy is: 83.24680511182109\n",
            "epoch 7 : \n",
            "----------\n",
            "Train Loss is: 0.3991253077983856 | Train accuracy is: 85.84666666666666 | Test Loss is: 0.47971001267433167 | Test accuracy is: 83.0870607028754\n",
            "Training time duration is :99.29140255499988\n"
          ]
        }
      ]
    },
    {
      "cell_type": "markdown",
      "source": [
        "### **Building a model-1 (CNN model)**"
      ],
      "metadata": {
        "id": "9TfRoKKUnk-r"
      }
    },
    {
      "cell_type": "code",
      "source": [
        "class fashion_Cnn(nn.Module):\n",
        "  def __init__(self,input_shape:int,hidden_neurons:int,output_shape:int):\n",
        "    super().__init__()\n",
        "    self.block_1=nn.Sequential(nn.Conv2d(in_channels=input_shape, out_channels=hidden_neurons, kernel_size=3,stride=1, padding=1),nn.ReLU(),\n",
        "                               nn.Conv2d(in_channels=hidden_neurons, out_channels=hidden_neurons, kernel_size=3,stride=1, padding=1),nn.ReLU(),\n",
        "                               nn.MaxPool2d(kernel_size=2,\n",
        "                         stride=2))\n",
        "\n",
        "    self.block_2=nn.Sequential(nn.Conv2d(in_channels=hidden_neurons, out_channels=hidden_neurons, kernel_size=3,stride=1, padding=1),nn.ReLU(),\n",
        "                               nn.Conv2d(hidden_neurons, hidden_neurons, kernel_size=3,stride=1, padding=1), nn.ReLU(),\n",
        "                               nn.MaxPool2d(kernel_size=2,\n",
        "                         stride=2),\n",
        "                               )\n",
        "\n",
        "    self.classifier = nn.Sequential(nn.Flatten(),nn.Linear(in_features=hidden_neurons*7*7 ,out_features=output_shape))\n",
        "# to calculate inputshape for nn.Linear :one way is to calculate data shape step by step from begining till the output of nn.Maxpool of block2. another tricky way is to create a dummy input data and feed it into network while commenting out the self classifier, and then print the shape of block_2 output. in this way we obtain the shape sth like this (hidden_neurons,7,7). So, after flatting the input shape becomes hidden_neurons*7*7.\n",
        "  def forward(self,x):\n",
        "    x=self.block_1(x)\n",
        "    x=self.block_2(x)\n",
        "    x=self.classifier(x)\n",
        "    return x"
      ],
      "metadata": {
        "id": "hGjXhYyUu4Yu"
      },
      "execution_count": null,
      "outputs": []
    },
    {
      "cell_type": "code",
      "source": [
        "\n",
        "out=torch.flatten(output)\n",
        "print(out.shape)\n",
        "Lin=nn.Linear(490,10)\n",
        "out2=Lin(out)\n",
        "print(out2.shape)"
      ],
      "metadata": {
        "colab": {
          "base_uri": "https://localhost:8080/"
        },
        "id": "FWIqDowQ67L9",
        "outputId": "70d14088-10a6-4c81-84ab-c6a049e4b94b"
      },
      "execution_count": null,
      "outputs": [
        {
          "output_type": "stream",
          "name": "stdout",
          "text": [
            "torch.Size([490])\n",
            "torch.Size([10])\n"
          ]
        }
      ]
    },
    {
      "cell_type": "code",
      "source": [
        "model_fashion1=fashion_Cnn(input_shape=1,hidden_neurons=10,output_shape=10)"
      ],
      "metadata": {
        "id": "CbQ8dGsLrFk3"
      },
      "execution_count": null,
      "outputs": []
    },
    {
      "cell_type": "code",
      "source": [
        "loss_fn=nn.CrossEntropyLoss()\n",
        "optimizer=torch.optim.SGD(params=model_fashion1.parameters(),lr=.01)"
      ],
      "metadata": {
        "id": "HddYMhRdDhYx"
      },
      "execution_count": null,
      "outputs": []
    },
    {
      "cell_type": "code",
      "source": [
        "from tqdm.auto import tqdm\n",
        "\n",
        "Epochs=10\n",
        "\n",
        "for epoch in tqdm(range(Epochs)):\n",
        "  print(f\"epoch {epoch} : \\n----------\")\n",
        "\n",
        "  Train_Loss, Trainaccuracy=train_step(model=model_fashion1,Train_batches=Train_batches,loss_fn=loss_fn,optimizer=optimizer,acc_fn=acc_fn)\n",
        "\n",
        "\n",
        "  Test_Loss, Testaccuracy=test_step(model=model_fashion1,Test_batches=Test_batches,loss_fn=loss_fn,acc_fn=acc_fn)\n",
        "\n",
        "\n",
        "\n",
        "\n",
        "  print(f\"Train Loss is: {Train_Loss} | Train accuracy is: {Trainaccuracy} | Test Loss is: {Test_Loss} | Test accuracy is: {Testaccuracy}\")\n"
      ],
      "metadata": {
        "colab": {
          "base_uri": "https://localhost:8080/",
          "height": 570,
          "referenced_widgets": [
            "01c6bff790fa4ca6b69a8a9a88ece7cd",
            "99327ab015524cfcad77d8a3083041d9",
            "5db2ff5aeaeb4d8aa44d61a94dacc57d",
            "f522cbc3a0e74105b75d858c2aeddc9b",
            "c021214b67f34110a172dd018c1edf4d",
            "ca643e0a37f843c78559a65be0c15906",
            "7f33fcf096734947a7ed3008d286cbdc",
            "f8724888d154469e83afde37d2d8c2f0",
            "b5ae7f1fd7ad43f3983dde9c1f588003",
            "fa16778c3a3042cd854f23db6b174520",
            "4e6fb39728a94f6cba119aab65e18af4"
          ]
        },
        "id": "8IJkJdN3EYy4",
        "outputId": "89bdd26b-6754-4e31-cdcd-186da52f0b12"
      },
      "execution_count": null,
      "outputs": [
        {
          "output_type": "display_data",
          "data": {
            "text/plain": [
              "  0%|          | 0/10 [00:00<?, ?it/s]"
            ],
            "application/vnd.jupyter.widget-view+json": {
              "version_major": 2,
              "version_minor": 0,
              "model_id": "01c6bff790fa4ca6b69a8a9a88ece7cd"
            }
          },
          "metadata": {}
        },
        {
          "output_type": "stream",
          "name": "stdout",
          "text": [
            "epoch 0 : \n",
            "----------\n",
            "Train Loss is: 1.2821309566497803 | Train accuracy is: 52.41166666666667 | Test Loss is: 0.6090866923332214 | Test accuracy is: 78.3047124600639\n",
            "epoch 1 : \n",
            "----------\n",
            "Train Loss is: 0.5222025513648987 | Train accuracy is: 81.00166666666667 | Test Loss is: 0.4646032154560089 | Test accuracy is: 83.58626198083067\n",
            "epoch 2 : \n",
            "----------\n",
            "Train Loss is: 0.4391993284225464 | Train accuracy is: 84.13833333333334 | Test Loss is: 0.4345841705799103 | Test accuracy is: 84.53474440894568\n",
            "epoch 3 : \n",
            "----------\n",
            "Train Loss is: 0.3997292220592499 | Train accuracy is: 85.65833333333333 | Test Loss is: 0.39744266867637634 | Test accuracy is: 86.2120607028754\n",
            "epoch 4 : \n",
            "----------\n",
            "Train Loss is: 0.37377870082855225 | Train accuracy is: 86.71 | Test Loss is: 0.41221320629119873 | Test accuracy is: 84.96405750798722\n",
            "epoch 5 : \n",
            "----------\n",
            "Train Loss is: 0.356720507144928 | Train accuracy is: 87.20833333333333 | Test Loss is: 0.3710820972919464 | Test accuracy is: 87.25039936102236\n",
            "epoch 6 : \n",
            "----------\n",
            "Train Loss is: 0.34026044607162476 | Train accuracy is: 87.68833333333333 | Test Loss is: 0.362951397895813 | Test accuracy is: 86.82108626198082\n",
            "epoch 7 : \n",
            "----------\n",
            "Train Loss is: 0.3285972476005554 | Train accuracy is: 88.16666666666667 | Test Loss is: 0.3533881604671478 | Test accuracy is: 87.62979233226837\n",
            "epoch 8 : \n",
            "----------\n",
            "Train Loss is: 0.3179691731929779 | Train accuracy is: 88.50333333333333 | Test Loss is: 0.3375868499279022 | Test accuracy is: 87.79952076677316\n",
            "epoch 9 : \n",
            "----------\n",
            "Train Loss is: 0.307844340801239 | Train accuracy is: 88.94666666666667 | Test Loss is: 0.3268386125564575 | Test accuracy is: 88.55830670926518\n"
          ]
        }
      ]
    },
    {
      "cell_type": "markdown",
      "source": [
        "###**Prediction**"
      ],
      "metadata": {
        "id": "JQm0NX1a4-oA"
      }
    },
    {
      "cell_type": "code",
      "source": [
        "#Initialization: (Loading Model Parameters)\n",
        "\n",
        "import torch\n",
        "from torch import nn\n",
        "from google.colab import drive\n",
        "drive.mount('/content/drive')\n",
        "\n",
        "# After running the model Structure (running  the Cell containing the model structure) --- re-training is not needed\n",
        "\n",
        "model_fashion1.load_state_dict(torch.load('/content/drive/My Drive/Colab_Notebooks/Pytorch-full-from-youtube-course/03CNN_model_parameters.pth')\n",
        ")\n",
        "model_fashion1.eval()\n"
      ],
      "metadata": {
        "colab": {
          "base_uri": "https://localhost:8080/"
        },
        "id": "eFMNoKHmZZae",
        "outputId": "dd69ffd5-e3c9-4221-be10-790ff168357a"
      },
      "execution_count": null,
      "outputs": [
        {
          "output_type": "stream",
          "name": "stdout",
          "text": [
            "Mounted at /content/drive\n"
          ]
        },
        {
          "output_type": "execute_result",
          "data": {
            "text/plain": [
              "fashion_Cnn(\n",
              "  (block_1): Sequential(\n",
              "    (0): Conv2d(1, 10, kernel_size=(3, 3), stride=(1, 1), padding=(1, 1))\n",
              "    (1): ReLU()\n",
              "    (2): Conv2d(10, 10, kernel_size=(3, 3), stride=(1, 1), padding=(1, 1))\n",
              "    (3): ReLU()\n",
              "    (4): MaxPool2d(kernel_size=2, stride=2, padding=0, dilation=1, ceil_mode=False)\n",
              "  )\n",
              "  (block_2): Sequential(\n",
              "    (0): Conv2d(10, 10, kernel_size=(3, 3), stride=(1, 1), padding=(1, 1))\n",
              "    (1): ReLU()\n",
              "    (2): Conv2d(10, 10, kernel_size=(3, 3), stride=(1, 1), padding=(1, 1))\n",
              "    (3): ReLU()\n",
              "    (4): MaxPool2d(kernel_size=2, stride=2, padding=0, dilation=1, ceil_mode=False)\n",
              "  )\n",
              "  (classifier): Sequential(\n",
              "    (0): Flatten(start_dim=1, end_dim=-1)\n",
              "    (1): Linear(in_features=490, out_features=10, bias=True)\n",
              "  )\n",
              ")"
            ]
          },
          "metadata": {},
          "execution_count": 8
        }
      ]
    },
    {
      "cell_type": "code",
      "source": [
        "#Defining the predict function\n",
        "\n",
        "def pred_fn(Model:torch.nn.Module, data):\n",
        "  pred_labels=[]\n",
        "  for sample in data:\n",
        "    pred_labels.append(torch.softmax(Model(torch.unsqueeze(sample,dim=0)),dim=1).argmax(dim=1))\n",
        "  return pred_labels"
      ],
      "metadata": {
        "id": "wuongCHBPjh-"
      },
      "execution_count": null,
      "outputs": []
    },
    {
      "cell_type": "markdown",
      "source": [
        "###Doing prediction and visualizing the results"
      ],
      "metadata": {
        "id": "efK0pLl085Le"
      }
    },
    {
      "cell_type": "code",
      "source": [
        "#Plotting and comparing the results\n",
        "\n",
        "import matplotlib.pyplot as plt\n",
        "plt.figure(figsize=(12,6))\n",
        "\n",
        "with torch.inference_mode():\n",
        "\n",
        " output=pred_fn(model_fashion1,test_sample)\n",
        "\n",
        "for i, sample in enumerate(test_sample): # enumerate gives us both the index and data\n",
        "  plt.subplot(3,3,i+1)\n",
        "  plt.imshow(sample.squeeze())\n",
        "\n",
        "  predicted_label=class_names[output[i].item()]\n",
        "  truth_label=class_names[test_label[i]]\n",
        "  text_title= f\"Pred: {predicted_label} | Truth: {truth_label}\"\n",
        "  if predicted_label==truth_label: # if prediction is wrong the title would be in red color\n",
        "    plt.title(text_title,c=\"g\")\n",
        "  else:\n",
        "    plt.title(text_title,c=\"r\")\n",
        "  plt.axis(False)\n"
      ],
      "metadata": {
        "id": "ar6JFkmbGJMS",
        "colab": {
          "base_uri": "https://localhost:8080/",
          "height": 521
        },
        "outputId": "f243e354-34e7-4d21-8d19-45afcc348e6e"
      },
      "execution_count": null,
      "outputs": [
        {
          "output_type": "display_data",
          "data": {
            "text/plain": [
              "<Figure size 1200x600 with 9 Axes>"
            ],
            "image/png": "[encoded data removed]"
          },
          "metadata": {}
        }
      ]
    },
    {
      "cell_type": "markdown",
      "source": [
        "###Confusion Matrix"
      ],
      "metadata": {
        "id": "5nV7eHrzA-Ac"
      }
    },
    {
      "cell_type": "code",
      "source": [
        "from sklearn.metrics import confusion_matrix\n",
        "import seaborn as sns\n",
        "import matplotlib.pyplot as plt"
      ],
      "metadata": {
        "id": "kV3whWbvMcCJ"
      },
      "execution_count": null,
      "outputs": []
    },
    {
      "cell_type": "code",
      "source": [
        "# Obtaining predicted labels for whole test_data\n",
        "#This code is adopted from for loop of test_step function\n",
        "\n",
        "with torch.inference_mode():\n",
        "  y_pred_labels=[]\n",
        "  truth_values=[]\n",
        "\n",
        "  for batch_idx, (X,y) in enumerate(Test_batches):\n",
        "\n",
        "    y_predtest=model_fashion1(X)\n",
        "\n",
        "    y_predtestacc=torch.softmax(y_predtest,dim=1).argmax(dim=1)\n",
        "\n",
        "    y_pred_labels.append(y_predtestacc)\n",
        "    truth_values.append(y)\n",
        "\n",
        "\n",
        "  y_pred_labels_tensor=torch.cat(y_pred_labels) #Each element of y_pred_labels is a tensor containing the predicted labels,so we use the cat function to concatenate a list of tensors (y_pred_labels) into a single tensor (y_pred_labels_tensor)\n",
        "  truth_values_tensor=torch.cat(truth_values)\n"
      ],
      "metadata": {
        "id": "kqL4GaYkMe3h"
      },
      "execution_count": null,
      "outputs": []
    },
    {
      "cell_type": "code",
      "source": [
        "#Building Confusion Matrix\n",
        "\n",
        "cm = confusion_matrix(truth_values_tensor.numpy(), y_pred_labels_tensor.numpy())"
      ],
      "metadata": {
        "id": "ZptdyiZrVEwa"
      },
      "execution_count": null,
      "outputs": []
    },
    {
      "cell_type": "code",
      "source": [
        "#Plotting Confusion Matrix\n",
        "\n",
        "plt.figure(figsize=(10, 8))\n",
        "sns.heatmap(cm, annot=True, fmt='d', cmap='Blues', xticklabels=class_names, yticklabels=class_names)\n",
        "plt.xlabel('Predicted')\n",
        "plt.ylabel('True')\n",
        "plt.title('Confusion Matrix')\n",
        "plt.show()"
      ],
      "metadata": {
        "colab": {
          "base_uri": "https://localhost:8080/",
          "height": 718
        },
        "id": "0dtKczXyf0K7",
        "outputId": "34130b25-670e-43ab-966b-85f5da6b94da"
      },
      "execution_count": null,
      "outputs": [
        {
          "output_type": "display_data",
          "data": {
            "text/plain": [
              "<Figure size 1000x800 with 2 Axes>"
            ],
            "image/png": "[encoded data removed]"
          },
          "metadata": {}
        }
      ]
    }
  ]
}